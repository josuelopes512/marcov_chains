{
 "cells": [
  {
   "cell_type": "code",
   "execution_count": 1,
   "metadata": {},
   "outputs": [
    {
     "name": "stdout",
     "output_type": "stream",
     "text": [
      "teste\n"
     ]
    }
   ],
   "source": [
    "print(\"teste\")"
   ]
  },
  {
   "cell_type": "code",
   "execution_count": 2,
   "metadata": {},
   "outputs": [],
   "source": [
    "import yfinance as yf"
   ]
  },
  {
   "cell_type": "code",
   "execution_count": 4,
   "metadata": {},
   "outputs": [
    {
     "name": "stderr",
     "output_type": "stream",
     "text": [
      "[*********************100%%**********************]  1 of 1 completed\n"
     ]
    }
   ],
   "source": [
    "data = yf.download(\"AAPL\", start=\"2020-01-01\", end=\"2020-12-31\")"
   ]
  },
  {
   "cell_type": "code",
   "execution_count": 5,
   "metadata": {},
   "outputs": [],
   "source": [
    "p = 3\n",
    "\n",
    "data[\"Return\"] = data[\"Adj Close\"].pct_change(p)\n",
    "data[\"Target\"] = data[\"Return\"].shift(-p)\n",
    "data[\"Average\"] = data[\"Return\"].rolling(52).mean()\n",
    "data[\"RSL\"] = (data[\"Adj Close\"] / data[\"Average\"]-1)\n",
    "\n",
    "limite_superior = 0.01\n",
    "limite_inferior = -0.01"
   ]
  },
  {
   "cell_type": "code",
   "execution_count": 8,
   "metadata": {},
   "outputs": [],
   "source": [
    "def classify_change(change):\n",
    "    if change > limite_superior:\n",
    "        return \"Aumento\"\n",
    "    elif change < limite_inferior:\n",
    "        return \"Diminuição\"\n",
    "    else:\n",
    "        return \"Estável\""
   ]
  },
  {
   "cell_type": "code",
   "execution_count": 10,
   "metadata": {},
   "outputs": [],
   "source": [
    "year_train = 2020\n",
    "year_test = 2021\n",
    "\n",
    "start_train = f\"{year_train}-01-01\"\n",
    "end_train = f\"{year_train}-12-31\"\n",
    "\n",
    "start_test = f\"{year_test}-01-01\"\n",
    "end_test = f\"{year_test}-12-31\"\n",
    "\n",
    "data_train = data[start_train:end_train]\n",
    "data_test = data[start_test:end_test]"
   ]
  },
  {
   "cell_type": "code",
   "execution_count": 11,
   "metadata": {},
   "outputs": [
    {
     "name": "stderr",
     "output_type": "stream",
     "text": [
      "C:\\Users\\maste\\AppData\\Local\\Temp\\ipykernel_19064\\3851964912.py:1: SettingWithCopyWarning: \n",
      "A value is trying to be set on a copy of a slice from a DataFrame.\n",
      "Try using .loc[row_indexer,col_indexer] = value instead\n",
      "\n",
      "See the caveats in the documentation: https://pandas.pydata.org/pandas-docs/stable/user_guide/indexing.html#returning-a-view-versus-a-copy\n",
      "  data_train[\"Class\"] = data_train[\"Return\"].apply(classify_change)\n"
     ]
    }
   ],
   "source": [
    "data_train[\"Class\"] = data_train[\"Return\"].apply(classify_change)"
   ]
  },
  {
   "cell_type": "code",
   "execution_count": 12,
   "metadata": {},
   "outputs": [],
   "source": [
    "estados = [\"Aumento\", \"Diminuição\", \"Estável\"]\n",
    "transicao = {estado : {e : 0 for e in estados} for estado in estados}"
   ]
  },
  {
   "cell_type": "code",
   "execution_count": 13,
   "metadata": {},
   "outputs": [],
   "source": [
    "for i in range(1, len(data_train)):\n",
    "    estado_atual = data_train[\"Class\"].iloc[i-1]\n",
    "    estado_futuro = data_train[\"Class\"].iloc[i]\n",
    "    transicao[estado_atual][estado_futuro] += 1"
   ]
  },
  {
   "cell_type": "code",
   "execution_count": 14,
   "metadata": {},
   "outputs": [],
   "source": [
    "for estado_atual, transicoes in transicao.items():\n",
    "    total = sum(transicoes.values())\n",
    "\n",
    "    for estado in estados:\n",
    "        transicao[estado_atual][estado] /= total"
   ]
  },
  {
   "cell_type": "code",
   "execution_count": 16,
   "metadata": {},
   "outputs": [
    {
     "name": "stdout",
     "output_type": "stream",
     "text": [
      "Estado atual: Aumento\n",
      "Estado futuro: Aumento - Probabilidade:  0.71\n",
      "Estado futuro: Diminuição - Probabilidade:  0.11\n",
      "Estado futuro: Estável - Probabilidade:  0.18\n",
      "\n",
      "Estado atual: Diminuição\n",
      "Estado futuro: Aumento - Probabilidade:  0.21\n",
      "Estado futuro: Diminuição - Probabilidade:  0.59\n",
      "Estado futuro: Estável - Probabilidade:  0.20\n",
      "\n",
      "Estado atual: Estável\n",
      "Estado futuro: Aumento - Probabilidade:  0.36\n",
      "Estado futuro: Diminuição - Probabilidade:  0.27\n",
      "Estado futuro: Estável - Probabilidade:  0.37\n",
      "\n"
     ]
    }
   ],
   "source": [
    "for estado_atual, transicoes in transicao.items():\n",
    "    print(f\"Estado atual: {estado_atual}\")\n",
    "    for estado, probabilidade in transicoes.items():\n",
    "        print(f\"Estado futuro: {estado} - Probabilidade: {probabilidade: .2f}\")\n",
    "    print()"
   ]
  },
  {
   "cell_type": "code",
   "execution_count": 21,
   "metadata": {},
   "outputs": [],
   "source": [
    "data[\"Class\"] = data[\"Return\"].apply(classify_change)"
   ]
  },
  {
   "cell_type": "code",
   "execution_count": 17,
   "metadata": {},
   "outputs": [],
   "source": [
    "def get_transicao_probabilidade(row, transicao):\n",
    "    current_class = row[\"Class\"]\n",
    "    previous_class = row[\"Previous_Class\"]\n",
    "    return transicao.get(current_class, {}).get(previous_class, 0)"
   ]
  },
  {
   "cell_type": "code",
   "execution_count": 22,
   "metadata": {},
   "outputs": [],
   "source": [
    "data[\"Previous_Class\"] = data[\"Class\"].shift(1)"
   ]
  },
  {
   "cell_type": "code",
   "execution_count": 23,
   "metadata": {},
   "outputs": [],
   "source": [
    "data[\"M_prob\"] = data.apply(lambda row: get_transicao_probabilidade(row, transicao), axis=1)"
   ]
  },
  {
   "cell_type": "code",
   "execution_count": 24,
   "metadata": {},
   "outputs": [
    {
     "data": {
      "text/html": [
       "<div>\n",
       "<style scoped>\n",
       "    .dataframe tbody tr th:only-of-type {\n",
       "        vertical-align: middle;\n",
       "    }\n",
       "\n",
       "    .dataframe tbody tr th {\n",
       "        vertical-align: top;\n",
       "    }\n",
       "\n",
       "    .dataframe thead th {\n",
       "        text-align: right;\n",
       "    }\n",
       "</style>\n",
       "<table border=\"1\" class=\"dataframe\">\n",
       "  <thead>\n",
       "    <tr style=\"text-align: right;\">\n",
       "      <th></th>\n",
       "      <th>Open</th>\n",
       "      <th>High</th>\n",
       "      <th>Low</th>\n",
       "      <th>Close</th>\n",
       "      <th>Adj Close</th>\n",
       "      <th>Volume</th>\n",
       "      <th>Return</th>\n",
       "      <th>Target</th>\n",
       "      <th>Average</th>\n",
       "      <th>RSL</th>\n",
       "      <th>Class</th>\n",
       "      <th>Previous_Class</th>\n",
       "      <th>M_prob</th>\n",
       "    </tr>\n",
       "    <tr>\n",
       "      <th>Date</th>\n",
       "      <th></th>\n",
       "      <th></th>\n",
       "      <th></th>\n",
       "      <th></th>\n",
       "      <th></th>\n",
       "      <th></th>\n",
       "      <th></th>\n",
       "      <th></th>\n",
       "      <th></th>\n",
       "      <th></th>\n",
       "      <th></th>\n",
       "      <th></th>\n",
       "      <th></th>\n",
       "    </tr>\n",
       "  </thead>\n",
       "  <tbody>\n",
       "    <tr>\n",
       "      <th>2020-01-02</th>\n",
       "      <td>74.059998</td>\n",
       "      <td>75.150002</td>\n",
       "      <td>73.797501</td>\n",
       "      <td>75.087502</td>\n",
       "      <td>73.059418</td>\n",
       "      <td>135480400</td>\n",
       "      <td>NaN</td>\n",
       "      <td>-0.006526</td>\n",
       "      <td>NaN</td>\n",
       "      <td>NaN</td>\n",
       "      <td>Estável</td>\n",
       "      <td>None</td>\n",
       "      <td>0.000000</td>\n",
       "    </tr>\n",
       "    <tr>\n",
       "      <th>2020-01-03</th>\n",
       "      <td>74.287498</td>\n",
       "      <td>75.144997</td>\n",
       "      <td>74.125000</td>\n",
       "      <td>74.357498</td>\n",
       "      <td>72.349136</td>\n",
       "      <td>146322800</td>\n",
       "      <td>NaN</td>\n",
       "      <td>0.019366</td>\n",
       "      <td>NaN</td>\n",
       "      <td>NaN</td>\n",
       "      <td>Estável</td>\n",
       "      <td>Estável</td>\n",
       "      <td>0.372881</td>\n",
       "    </tr>\n",
       "    <tr>\n",
       "      <th>2020-01-06</th>\n",
       "      <td>73.447502</td>\n",
       "      <td>74.989998</td>\n",
       "      <td>73.187500</td>\n",
       "      <td>74.949997</td>\n",
       "      <td>72.925636</td>\n",
       "      <td>118387200</td>\n",
       "      <td>NaN</td>\n",
       "      <td>0.032788</td>\n",
       "      <td>NaN</td>\n",
       "      <td>NaN</td>\n",
       "      <td>Estável</td>\n",
       "      <td>Estável</td>\n",
       "      <td>0.372881</td>\n",
       "    </tr>\n",
       "    <tr>\n",
       "      <th>2020-01-07</th>\n",
       "      <td>74.959999</td>\n",
       "      <td>75.224998</td>\n",
       "      <td>74.370003</td>\n",
       "      <td>74.597504</td>\n",
       "      <td>72.582657</td>\n",
       "      <td>108872000</td>\n",
       "      <td>-0.006526</td>\n",
       "      <td>0.040015</td>\n",
       "      <td>NaN</td>\n",
       "      <td>NaN</td>\n",
       "      <td>Estável</td>\n",
       "      <td>Estável</td>\n",
       "      <td>0.372881</td>\n",
       "    </tr>\n",
       "    <tr>\n",
       "      <th>2020-01-08</th>\n",
       "      <td>74.290001</td>\n",
       "      <td>76.110001</td>\n",
       "      <td>74.290001</td>\n",
       "      <td>75.797501</td>\n",
       "      <td>73.750252</td>\n",
       "      <td>132079200</td>\n",
       "      <td>0.019366</td>\n",
       "      <td>0.045417</td>\n",
       "      <td>NaN</td>\n",
       "      <td>NaN</td>\n",
       "      <td>Aumento</td>\n",
       "      <td>Estável</td>\n",
       "      <td>0.181818</td>\n",
       "    </tr>\n",
       "    <tr>\n",
       "      <th>...</th>\n",
       "      <td>...</td>\n",
       "      <td>...</td>\n",
       "      <td>...</td>\n",
       "      <td>...</td>\n",
       "      <td>...</td>\n",
       "      <td>...</td>\n",
       "      <td>...</td>\n",
       "      <td>...</td>\n",
       "      <td>...</td>\n",
       "      <td>...</td>\n",
       "      <td>...</td>\n",
       "      <td>...</td>\n",
       "      <td>...</td>\n",
       "    </tr>\n",
       "    <tr>\n",
       "      <th>2020-12-23</th>\n",
       "      <td>132.160004</td>\n",
       "      <td>132.429993</td>\n",
       "      <td>130.779999</td>\n",
       "      <td>130.960007</td>\n",
       "      <td>128.523270</td>\n",
       "      <td>88223700</td>\n",
       "      <td>0.033949</td>\n",
       "      <td>0.029856</td>\n",
       "      <td>0.007597</td>\n",
       "      <td>16917.206461</td>\n",
       "      <td>Aumento</td>\n",
       "      <td>Aumento</td>\n",
       "      <td>0.710744</td>\n",
       "    </tr>\n",
       "    <tr>\n",
       "      <th>2020-12-24</th>\n",
       "      <td>131.320007</td>\n",
       "      <td>133.460007</td>\n",
       "      <td>131.100006</td>\n",
       "      <td>131.970001</td>\n",
       "      <td>129.514481</td>\n",
       "      <td>54930100</td>\n",
       "      <td>0.029166</td>\n",
       "      <td>0.013260</td>\n",
       "      <td>0.006600</td>\n",
       "      <td>19621.850180</td>\n",
       "      <td>Aumento</td>\n",
       "      <td>Aumento</td>\n",
       "      <td>0.710744</td>\n",
       "    </tr>\n",
       "    <tr>\n",
       "      <th>2020-12-28</th>\n",
       "      <td>133.990005</td>\n",
       "      <td>137.339996</td>\n",
       "      <td>133.509995</td>\n",
       "      <td>136.690002</td>\n",
       "      <td>134.146652</td>\n",
       "      <td>124486200</td>\n",
       "      <td>0.036472</td>\n",
       "      <td>NaN</td>\n",
       "      <td>0.006276</td>\n",
       "      <td>21372.764372</td>\n",
       "      <td>Aumento</td>\n",
       "      <td>Aumento</td>\n",
       "      <td>0.710744</td>\n",
       "    </tr>\n",
       "    <tr>\n",
       "      <th>2020-12-29</th>\n",
       "      <td>138.050003</td>\n",
       "      <td>138.789993</td>\n",
       "      <td>134.339996</td>\n",
       "      <td>134.869995</td>\n",
       "      <td>132.360489</td>\n",
       "      <td>121047300</td>\n",
       "      <td>0.029856</td>\n",
       "      <td>NaN</td>\n",
       "      <td>0.006157</td>\n",
       "      <td>21498.002982</td>\n",
       "      <td>Aumento</td>\n",
       "      <td>Aumento</td>\n",
       "      <td>0.710744</td>\n",
       "    </tr>\n",
       "    <tr>\n",
       "      <th>2020-12-30</th>\n",
       "      <td>135.580002</td>\n",
       "      <td>135.990005</td>\n",
       "      <td>133.399994</td>\n",
       "      <td>133.720001</td>\n",
       "      <td>131.231903</td>\n",
       "      <td>96452100</td>\n",
       "      <td>0.013260</td>\n",
       "      <td>NaN</td>\n",
       "      <td>0.006982</td>\n",
       "      <td>18794.668330</td>\n",
       "      <td>Aumento</td>\n",
       "      <td>Aumento</td>\n",
       "      <td>0.710744</td>\n",
       "    </tr>\n",
       "  </tbody>\n",
       "</table>\n",
       "<p>252 rows × 13 columns</p>\n",
       "</div>"
      ],
      "text/plain": [
       "                  Open        High         Low       Close   Adj Close  \\\n",
       "Date                                                                     \n",
       "2020-01-02   74.059998   75.150002   73.797501   75.087502   73.059418   \n",
       "2020-01-03   74.287498   75.144997   74.125000   74.357498   72.349136   \n",
       "2020-01-06   73.447502   74.989998   73.187500   74.949997   72.925636   \n",
       "2020-01-07   74.959999   75.224998   74.370003   74.597504   72.582657   \n",
       "2020-01-08   74.290001   76.110001   74.290001   75.797501   73.750252   \n",
       "...                ...         ...         ...         ...         ...   \n",
       "2020-12-23  132.160004  132.429993  130.779999  130.960007  128.523270   \n",
       "2020-12-24  131.320007  133.460007  131.100006  131.970001  129.514481   \n",
       "2020-12-28  133.990005  137.339996  133.509995  136.690002  134.146652   \n",
       "2020-12-29  138.050003  138.789993  134.339996  134.869995  132.360489   \n",
       "2020-12-30  135.580002  135.990005  133.399994  133.720001  131.231903   \n",
       "\n",
       "               Volume    Return    Target   Average           RSL    Class  \\\n",
       "Date                                                                         \n",
       "2020-01-02  135480400       NaN -0.006526       NaN           NaN  Estável   \n",
       "2020-01-03  146322800       NaN  0.019366       NaN           NaN  Estável   \n",
       "2020-01-06  118387200       NaN  0.032788       NaN           NaN  Estável   \n",
       "2020-01-07  108872000 -0.006526  0.040015       NaN           NaN  Estável   \n",
       "2020-01-08  132079200  0.019366  0.045417       NaN           NaN  Aumento   \n",
       "...               ...       ...       ...       ...           ...      ...   \n",
       "2020-12-23   88223700  0.033949  0.029856  0.007597  16917.206461  Aumento   \n",
       "2020-12-24   54930100  0.029166  0.013260  0.006600  19621.850180  Aumento   \n",
       "2020-12-28  124486200  0.036472       NaN  0.006276  21372.764372  Aumento   \n",
       "2020-12-29  121047300  0.029856       NaN  0.006157  21498.002982  Aumento   \n",
       "2020-12-30   96452100  0.013260       NaN  0.006982  18794.668330  Aumento   \n",
       "\n",
       "           Previous_Class    M_prob  \n",
       "Date                                 \n",
       "2020-01-02           None  0.000000  \n",
       "2020-01-03        Estável  0.372881  \n",
       "2020-01-06        Estável  0.372881  \n",
       "2020-01-07        Estável  0.372881  \n",
       "2020-01-08        Estável  0.181818  \n",
       "...                   ...       ...  \n",
       "2020-12-23        Aumento  0.710744  \n",
       "2020-12-24        Aumento  0.710744  \n",
       "2020-12-28        Aumento  0.710744  \n",
       "2020-12-29        Aumento  0.710744  \n",
       "2020-12-30        Aumento  0.710744  \n",
       "\n",
       "[252 rows x 13 columns]"
      ]
     },
     "execution_count": 24,
     "metadata": {},
     "output_type": "execute_result"
    }
   ],
   "source": [
    "data"
   ]
  }
 ],
 "metadata": {
  "kernelspec": {
   "display_name": "venv",
   "language": "python",
   "name": "python3"
  },
  "language_info": {
   "codemirror_mode": {
    "name": "ipython",
    "version": 3
   },
   "file_extension": ".py",
   "mimetype": "text/x-python",
   "name": "python",
   "nbconvert_exporter": "python",
   "pygments_lexer": "ipython3",
   "version": "3.12.2"
  }
 },
 "nbformat": 4,
 "nbformat_minor": 2
}
